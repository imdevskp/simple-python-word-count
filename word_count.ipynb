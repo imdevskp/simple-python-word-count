{
 "cells": [
  {
   "cell_type": "code",
   "execution_count": 2,
   "metadata": {},
   "outputs": [],
   "source": [
    "#rename the .txt file to wc.txt"
   ]
  },
  {
   "cell_type": "code",
   "execution_count": 4,
   "metadata": {},
   "outputs": [],
   "source": [
    "#get current working directory\n",
    "\n",
    "content = open('data/text.txt').read().split()"
   ]
  },
  {
   "cell_type": "code",
   "execution_count": 5,
   "metadata": {},
   "outputs": [
    {
     "name": "stdout",
     "output_type": "stream",
     "text": [
      "{'this': 1, 'is': 1, 'just': 1, 'a': 1, 'text': 1, 'file': 1, 'we': 1, 'will': 1, 'count': 2, 'the': 2, 'number': 3, 'of': 3, 'words': 4, 'in': 2, 'it': 2, 'let': 1, 'us': 1, 'there': 1, 'are': 1, 'some': 1, 'does': 1, 'not': 1, 'matter': 1}\n"
     ]
    }
   ],
   "source": [
    "wc = {}\n",
    "\n",
    "for word in content:\n",
    "    if word not in wc:\n",
    "        wc[word] = 1\n",
    "    else:\n",
    "        wc[word] += 1\n",
    "        \n",
    "print(wc)"
   ]
  },
  {
   "cell_type": "code",
   "execution_count": 6,
   "metadata": {},
   "outputs": [
    {
     "name": "stdout",
     "output_type": "stream",
     "text": [
      "     count  word\n",
      "0     this     1\n",
      "1       is     1\n",
      "2     just     1\n",
      "3        a     1\n",
      "4     text     1\n",
      "5     file     1\n",
      "6       we     1\n",
      "7     will     1\n",
      "8    count     2\n",
      "9      the     2\n",
      "10  number     3\n",
      "11      of     3\n",
      "12   words     4\n",
      "13      in     2\n",
      "14      it     2\n",
      "15     let     1\n",
      "16      us     1\n",
      "17   there     1\n",
      "18     are     1\n",
      "19    some     1\n",
      "20    does     1\n",
      "21     not     1\n",
      "22  matter     1\n"
     ]
    }
   ],
   "source": [
    "import pandas as pd\n",
    "\n",
    "df = pd.DataFrame({'word':list(wc.values()), 'count':list(wc.keys())})\n",
    "print(df)"
   ]
  },
  {
   "cell_type": "code",
   "execution_count": 12,
   "metadata": {},
   "outputs": [
    {
     "data": {
      "image/png": "[encoded data removed]",
      "text/plain": [
       "<matplotlib.figure.Figure at 0x156e8a00208>"
      ]
     },
     "metadata": {},
     "output_type": "display_data"
    }
   ],
   "source": [
    "import matplotlib.pyplot as plt\n",
    "df.plot(kind='bar')\n",
    "plt.show()"
   ]
  }
 ],
 "metadata": {
  "kernelspec": {
   "display_name": "Python 3",
   "language": "python",
   "name": "python3"
  },
  "language_info": {
   "codemirror_mode": {
    "name": "ipython",
    "version": 3
   },
   "file_extension": ".py",
   "mimetype": "text/x-python",
   "name": "python",
   "nbconvert_exporter": "python",
   "pygments_lexer": "ipython3",
   "version": "3.6.4"
  }
 },
 "nbformat": 4,
 "nbformat_minor": 2
}
