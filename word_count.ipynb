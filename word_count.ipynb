{
 "cells": [
  {
   "cell_type": "code",
   "execution_count": 2,
   "metadata": {},
   "outputs": [],
   "source": [
    "#rename the .txt file to wc.txt"
   ]
  },
  {
   "cell_type": "code",
   "execution_count": 4,
   "metadata": {},
   "outputs": [],
   "source": [
    "#get current working directory\n",
    "\n",
    "import os\n",
    "cw =os.getcwd()\n",
    "file = 'wc.txt'\n",
    "path = cw + '\\\\' + file\n",
    "\n",
    "content = open(path ,\"r+\").read().split()"
   ]
  },
  {
   "cell_type": "code",
   "execution_count": 5,
   "metadata": {},
   "outputs": [
    {
     "name": "stdout",
     "output_type": "stream",
     "text": [
      "{'in': 4, 'now': 2, 'we': 1, 'are': 1, 'no': 2, 'even': 1, 'grow': 2, 'you': 2, 'is': 3, 'ba': 2, 'na': 2}\n"
     ]
    }
   ],
   "source": [
    "wc = {}\n",
    "\n",
    "for word in content:\n",
    "    if word not in wc:\n",
    "        wc[word] = 1\n",
    "    else:\n",
    "        wc[word] += 1\n",
    "        \n",
    "print(wc)"
   ]
  },
  {
   "cell_type": "code",
   "execution_count": 18,
   "metadata": {},
   "outputs": [
    {
     "name": "stdout",
     "output_type": "stream",
     "text": [
      "   count  word\n",
      "0     in     4\n",
      "1    now     2\n",
      "2     we     1\n",
      "3    are     1\n",
      "4     no     2\n",
      "5   even     1\n",
      "6   grow     2\n",
      "7    you     2\n",
      "8     is     3\n",
      "9     ba     2\n",
      "10    na     2\n"
     ]
    }
   ],
   "source": [
    "import pandas as pd\n",
    "\n",
    "df = pd.DataFrame({'word':list(wc.values()), 'count':list(wc.keys())})\n",
    "print(df)"
   ]
  },
  {
   "cell_type": "code",
   "execution_count": 24,
   "metadata": {},
   "outputs": [
    {
     "data": {
      "text/plain": [
       "<matplotlib.axes._subplots.AxesSubplot at 0x23d071bdef0>"
      ]
     },
     "execution_count": 24,
     "metadata": {},
     "output_type": "execute_result"
    },
    {
     "data": {
      "image/png": "[encoded data removed]",
      "text/plain": [
       "<matplotlib.figure.Figure at 0x23d0719da20>"
      ]
     },
     "metadata": {},
     "output_type": "display_data"
    }
   ],
   "source": [
    "import matplotlib.pyplot as plt\n",
    "df.plot()"
   ]
  }
 ],
 "metadata": {
  "kernelspec": {
   "display_name": "Python 3",
   "language": "python",
   "name": "python3"
  },
  "language_info": {
   "codemirror_mode": {
    "name": "ipython",
    "version": 3
   },
   "file_extension": ".py",
   "mimetype": "text/x-python",
   "name": "python",
   "nbconvert_exporter": "python",
   "pygments_lexer": "ipython3",
   "version": "3.6.4"
  }
 },
 "nbformat": 4,
 "nbformat_minor": 2
}
